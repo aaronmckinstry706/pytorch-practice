{
 "cells": [
  {
   "cell_type": "markdown",
   "metadata": {},
   "source": [
    "# Learning Asymmetry With a Neural Network\n",
    "\n",
    "The title is self-explanatory. The purpose of this notebook is for me to practice using PyTorch's neural network and optimization packages. \n",
    "\n",
    "## Define the data/labels\n",
    "\n",
    "The input to our network is going to be all binary numbers with six digits. "
   ]
  },
  {
   "cell_type": "code",
   "execution_count": 1,
   "metadata": {
    "collapsed": true
   },
   "outputs": [],
   "source": [
    "def fill_binary_numbers(arr):\n",
    "    \"\"\"Fills 2-d numpy array with binary numbers, counting upwards from 0, 1, 10, 11, etc.\"\"\"\n",
    "    for power in range(0, arr.shape[1]):\n",
    "        for i in range(0, arr.shape[0]):\n",
    "            arr[i, arr.shape[1] - power - 1] = int(i/(2**power)) % 2\n",
    "\n",
    "import numpy\n",
    "import torch\n",
    "import torch.autograd as autograd\n",
    "\n",
    "inputs = numpy.zeros((64, 6)).astype(\"float32\")\n",
    "fill_binary_numbers(inputs.data)\n",
    "labels = numpy.all(numpy.equal(inputs[:,0:3], inputs[:,5:2:-1]), axis=1).astype(\"float32\")\n",
    "\n",
    "inputs = autograd.Variable(torch.from_numpy(inputs))\n",
    "labels = autograd.Variable(torch.from_numpy(labels))"
   ]
  },
  {
   "cell_type": "markdown",
   "metadata": {},
   "source": [
    "Now we'll go ahead and define our neural network: a two-layer neural net with two hidden units and sigmoid activation functions in the intermediate layer. The final layer will be have an absolute value activation function (important: this is chosen because it is required for the network to learn the desired function with the given architecture; it is ad hoc). "
   ]
  },
  {
   "cell_type": "code",
   "execution_count": 2,
   "metadata": {},
   "outputs": [
    {
     "name": "stdout",
     "output_type": "stream",
     "text": [
      "SimpleNet (\n",
      "  (l1_linear): Linear (6 -> 2)\n",
      "  (l2_linear): Linear (2 -> 1)\n",
      ")\n"
     ]
    }
   ],
   "source": [
    "import torch.nn as nn\n",
    "import torch.nn.functional as functional\n",
    "\n",
    "class SimpleNet(nn.Module):\n",
    "    def __init__(self):\n",
    "        super(SimpleNet, self).__init__()\n",
    "        \n",
    "        self.l1_linear = nn.Linear(6, 2)\n",
    "        self.l2_linear = nn.Linear(2, 1)\n",
    "    \n",
    "    def forward(self, x):\n",
    "        x = functional.sigmoid(self.l1_linear(x))\n",
    "        x = torch.abs(self.l2_linear(x))\n",
    "        return x\n",
    "\n",
    "net = SimpleNet()\n",
    "print(net)"
   ]
  },
  {
   "cell_type": "markdown",
   "metadata": {},
   "source": [
    "Let's train the network now, using stochastic gradient descent with momentum. "
   ]
  },
  {
   "cell_type": "code",
   "execution_count": 3,
   "metadata": {
    "collapsed": true
   },
   "outputs": [],
   "source": [
    "import torch.optim as optim\n",
    "\n",
    "optimizer = optim.SGD(net.parameters(), lr=0.1, momentum=0.9)\n",
    "loss = nn.MSELoss(size_average=False)\n",
    "for i in range(1000):\n",
    "    outputs = net(inputs)\n",
    "    error = loss(outputs, labels)\n",
    "    net.zero_grad()\n",
    "    error.backward()\n",
    "    optimizer.step()"
   ]
  },
  {
   "cell_type": "markdown",
   "metadata": {},
   "source": [
    "Hopefully that worked. Let's check the final error, and examine a sample of the input/output pairs."
   ]
  },
  {
   "cell_type": "code",
   "execution_count": 4,
   "metadata": {},
   "outputs": [
    {
     "name": "stdout",
     "output_type": "stream",
     "text": [
      "torch.FloatTensor torch.Size([64, 1])\n",
      "torch.FloatTensor torch.Size([64, 1])\n",
      "\n",
      "  nan     1\n",
      "  nan     0\n",
      "  nan     0\n",
      "  nan     0\n",
      "  nan     0\n",
      "  nan     0\n",
      "  nan     0\n",
      "  nan     0\n",
      "  nan     0\n",
      "  nan     0\n",
      "  nan     0\n",
      "  nan     0\n",
      "  nan     1\n",
      "  nan     0\n",
      "  nan     0\n",
      "  nan     0\n",
      "  nan     0\n",
      "  nan     0\n",
      "  nan     1\n",
      "  nan     0\n",
      "  nan     0\n",
      "  nan     0\n",
      "  nan     0\n",
      "  nan     0\n",
      "  nan     0\n",
      "  nan     0\n",
      "  nan     0\n",
      "  nan     0\n",
      "  nan     0\n",
      "  nan     0\n",
      "  nan     1\n",
      "  nan     0\n",
      "  nan     0\n",
      "  nan     1\n",
      "  nan     0\n",
      "  nan     0\n",
      "  nan     0\n",
      "  nan     0\n",
      "  nan     0\n",
      "  nan     0\n",
      "  nan     0\n",
      "  nan     0\n",
      "  nan     0\n",
      "  nan     0\n",
      "  nan     0\n",
      "  nan     1\n",
      "  nan     0\n",
      "  nan     0\n",
      "  nan     0\n",
      "  nan     0\n",
      "  nan     0\n",
      "  nan     1\n",
      "  nan     0\n",
      "  nan     0\n",
      "  nan     0\n",
      "  nan     0\n",
      "  nan     0\n",
      "  nan     0\n",
      "  nan     0\n",
      "  nan     0\n",
      "  nan     0\n",
      "  nan     0\n",
      "  nan     0\n",
      "  nan     1\n",
      "[torch.FloatTensor of size 64x2]\n",
      "\n"
     ]
    }
   ],
   "source": [
    "print(outputs.data.type(), outputs.data.size())\n",
    "print(labels.data.type(), labels.data.unsqueeze(1).size())\n",
    "print(torch.cat((outputs.data, labels.data.unsqueeze(1)), dim=1))"
   ]
  },
  {
   "cell_type": "markdown",
   "metadata": {},
   "source": [
    "Oh no! Everything is `nan`. Why is this the case? Let's redo that (and put it in a function, in case we have to do this over again), but just for a couple iterations, and plot what happens to the norm of the weights and gradients over time, to see what's happening. "
   ]
  },
  {
   "cell_type": "code",
   "execution_count": 5,
   "metadata": {},
   "outputs": [
    {
     "name": "stdout",
     "output_type": "stream",
     "text": [
      "[3.1938954673951017, 39.707759792941715, 369.856304958248, 3977.21367543412, 43014.83130407993]\n",
      "[32.5146058552451, 446.57187869333455, 4350.955976469997, 47063.69531437877, 509017.7187500079]\n"
     ]
    },
    {
     "data": {
      "text/plain": [
       "<matplotlib.legend.Legend at 0x7fddbe4b6400>"
      ]
     },
     "execution_count": 5,
     "metadata": {},
     "output_type": "execute_result"
    },
    {
     "data": {
      "image/png": "[encoded data removed]",
      "text/plain": [
       "<matplotlib.figure.Figure at 0x7fddbe8a74a8>"
      ]
     },
     "metadata": {},
     "output_type": "display_data"
    }
   ],
   "source": [
    "import matplotlib.pyplot as pyplot\n",
    "%matplotlib inline\n",
    "\n",
    "def norm(seq):\n",
    "    \"\"\"Takes a sequence of torch.FloatTensor's and returns the norm of\n",
    "    all elements contained in them.\"\"\"\n",
    "    def get_flat_size(tensor):\n",
    "        fs = 1\n",
    "        for s in tensor.size():\n",
    "            fs *= s\n",
    "        return fs\n",
    "    return torch.norm(torch.cat([t.view(get_flat_size(t)) for t in seq]))\n",
    "\n",
    "def train(net, num_steps):\n",
    "    weight_norms = []\n",
    "    gradient_norms = []\n",
    "    optimizer = optim.SGD(net.parameters(), lr=0.1, momentum=0.9)\n",
    "    loss = nn.MSELoss(size_average=False)\n",
    "    for i in range(num_steps):\n",
    "        outputs = net(inputs)\n",
    "        error = loss(outputs, labels)\n",
    "        net.zero_grad()\n",
    "        error.backward()\n",
    "        optimizer.step()\n",
    "        weight_norms.append(norm([p.data for p in net.parameters()]))\n",
    "        gradient_norms.append(norm([p.grad.data for p in net.parameters()]))\n",
    "    return (weight_norms, gradient_norms)\n",
    "\n",
    "num_epochs = 5\n",
    "wnorms, gnorms = train(SimpleNet(), num_epochs)\n",
    "print(wnorms)\n",
    "print(gnorms)\n",
    "pyplot.plot(range(1, num_epochs + 1), wnorms)\n",
    "pyplot.plot(range(1, num_epochs + 1), gnorms)\n",
    "pyplot.legend(['weight norm', 'gradient norm'])"
   ]
  },
  {
   "cell_type": "markdown",
   "metadata": {},
   "source": [
    "From debugging the above, I learned that the `data` property of an `autograd.Variable` instance is a `torch.Tensor`, while the `grad` property is another `autograd.Variable`. \n",
    "\n",
    "In any case, it looks like the weights are going up...and up...and up. Something must be wonky with the optimization, or with the problem itself. Let's try limiting the weight size by adding a regularization term to the error function. "
   ]
  },
  {
   "cell_type": "code",
   "execution_count": 6,
   "metadata": {},
   "outputs": [
    {
     "name": "stdout",
     "output_type": "stream",
     "text": [
      "[1333.1727022064015, 1342149.6111541574, 1346303111.392663, 1355844869018.1504, 1360448394782056.2]\n",
      "[13345.012077266509, 13446837.09037436, 13488543164.995909, 13584039355255.83, 1.3630255970018532e+16]\n"
     ]
    },
    {
     "data": {
      "text/plain": [
       "<matplotlib.legend.Legend at 0x7fddbe387278>"
      ]
     },
     "execution_count": 6,
     "metadata": {},
     "output_type": "execute_result"
    },
    {
     "data": {
      "image/png": "[encoded data removed]",
      "text/plain": [
       "<matplotlib.figure.Figure at 0x7fddbe4f5e80>"
      ]
     },
     "metadata": {},
     "output_type": "display_data"
    },
    {
     "data": {
      "image/png": "[encoded data removed]",
      "text/plain": [
       "<matplotlib.figure.Figure at 0x7fddbe3f5cc0>"
      ]
     },
     "metadata": {},
     "output_type": "display_data"
    }
   ],
   "source": [
    "def train_with_weight_decay(net, num_steps):\n",
    "    weight_norms = []\n",
    "    gradient_norms = []\n",
    "    optimizer = optim.SGD(\n",
    "        net.parameters(), lr=0.1, momentum=0.9, weight_decay=10000.0)\n",
    "    loss = nn.MSELoss(size_average=False)\n",
    "    for i in range(num_steps):\n",
    "        outputs = net(inputs)\n",
    "        error = loss(outputs, labels)\n",
    "        net.zero_grad()\n",
    "        error.backward()\n",
    "        optimizer.step()\n",
    "        weight_norms.append(norm([p.data for p in net.parameters()]))\n",
    "        gradient_norms.append(norm([p.grad.data for p in net.parameters()]))\n",
    "    return (weight_norms, gradient_norms)\n",
    "\n",
    "num_epochs = 5\n",
    "wnorms, gnorms = train_with_weight_decay(SimpleNet(), num_epochs)\n",
    "print(wnorms)\n",
    "print(gnorms)\n",
    "pyplot.plot(range(1, num_epochs + 1), wnorms)\n",
    "pyplot.legend(['weight norm'])\n",
    "pyplot.figure()\n",
    "pyplot.plot(range(1, num_epochs + 1), gnorms)\n",
    "pyplot.legend(['gradient norm'])"
   ]
  },
  {
   "cell_type": "markdown",
   "metadata": {},
   "source": [
    "Okay. So, as you can see, there is a very big problem here. The weight decay does not stop it--at all. Maybe it's an architectural problem. The reason I chose the absolute value activation function is because, in the solution from the original paper by Rumelhart et al. (1986), the solution learned by their network seems to require a non-sigmoid activation function--or else the labels are different. \n",
    "\n",
    "In fact, they did not mention explicitly what the label values were. It could be that they engineered the label functions to make the network learn a good representation. \n",
    "\n",
    "In any case, let's try the absolute value of the sigmoid, so that the output (and, therefore, the gradient) is bounded. This should change our graphs. "
   ]
  },
  {
   "cell_type": "code",
   "execution_count": 7,
   "metadata": {},
   "outputs": [
    {
     "data": {
      "text/plain": [
       "<matplotlib.legend.Legend at 0x7fddbe3e3898>"
      ]
     },
     "execution_count": 7,
     "metadata": {},
     "output_type": "execute_result"
    },
    {
     "data": {
      "image/png": "[encoded data removed]",
      "text/plain": [
       "<matplotlib.figure.Figure at 0x7fde0c4670b8>"
      ]
     },
     "metadata": {},
     "output_type": "display_data"
    },
    {
     "data": {
      "image/png": "[encoded data removed]",
      "text/plain": [
       "<matplotlib.figure.Figure at 0x7fddbe37d2e8>"
      ]
     },
     "metadata": {},
     "output_type": "display_data"
    }
   ],
   "source": [
    "class SimpleNetV2(nn.Module):\n",
    "    def __init__(self):\n",
    "        super(SimpleNetV2, self).__init__()\n",
    "        \n",
    "        self.l1_linear = nn.Linear(6, 2)\n",
    "        self.l2_linear = nn.Linear(2, 1)\n",
    "    \n",
    "    def forward(self, x):\n",
    "        x = functional.sigmoid(self.l1_linear(x))\n",
    "        x = torch.abs(functional.sigmoid(self.l2_linear(x))*2 - 1)\n",
    "        return x\n",
    "\n",
    "num_epochs = 1400\n",
    "net = SimpleNetV2()\n",
    "wnorms, gnorms = train(net, num_epochs)\n",
    "pyplot.plot(range(1, num_epochs + 1), wnorms)\n",
    "pyplot.legend(['weight norm'])\n",
    "pyplot.figure()\n",
    "pyplot.plot(range(1, num_epochs + 1), gnorms)\n",
    "pyplot.legend(['gradient norm'])"
   ]
  },
  {
   "cell_type": "markdown",
   "metadata": {},
   "source": [
    "Alright! So this fixed the problem with exploding gradients and, as a result (or so it seems), our exploding weights!\n",
    "\n",
    "Now let's check how our predictions fair against the training labels. "
   ]
  },
  {
   "cell_type": "code",
   "execution_count": 8,
   "metadata": {},
   "outputs": [
    {
     "name": "stdout",
     "output_type": "stream",
     "text": [
      "torch.FloatTensor torch.Size([64, 1])\n",
      "torch.FloatTensor torch.Size([64, 1])\n",
      "\n",
      " 0.9601  1.0000\n",
      " 0.1143  0.0000\n",
      " 0.1143  0.0000\n",
      " 0.1108  0.0000\n",
      " 0.1143  0.0000\n",
      " 0.1108  0.0000\n",
      " 0.1108  0.0000\n",
      " 0.1109  0.0000\n",
      " 0.1141  0.0000\n",
      " 0.1107  0.0000\n",
      " 0.1107  0.0000\n",
      " 0.1109  0.0000\n",
      " 0.1107  1.0000\n",
      " 0.1109  0.0000\n",
      " 0.1109  0.0000\n",
      " 0.1109  0.0000\n",
      " 0.1144  0.0000\n",
      " 0.1108  0.0000\n",
      " 0.1108  1.0000\n",
      " 0.1109  0.0000\n",
      " 0.1108  0.0000\n",
      " 0.1109  0.0000\n",
      " 0.1109  0.0000\n",
      " 0.1109  0.0000\n",
      " 0.1108  0.0000\n",
      " 0.1109  0.0000\n",
      " 0.1109  0.0000\n",
      " 0.1109  0.0000\n",
      " 0.1109  0.0000\n",
      " 0.1109  0.0000\n",
      " 0.1109  1.0000\n",
      " 0.1109  0.0000\n",
      " 0.1142  0.0000\n",
      " 0.1108  1.0000\n",
      " 0.1108  0.0000\n",
      " 0.1109  0.0000\n",
      " 0.1108  0.0000\n",
      " 0.1109  0.0000\n",
      " 0.1109  0.0000\n",
      " 0.1109  0.0000\n",
      " 0.1107  0.0000\n",
      " 0.1109  0.0000\n",
      " 0.1109  0.0000\n",
      " 0.1109  0.0000\n",
      " 0.1109  0.0000\n",
      " 0.1109  1.0000\n",
      " 0.1109  0.0000\n",
      " 0.1109  0.0000\n",
      " 0.1108  0.0000\n",
      " 0.1109  0.0000\n",
      " 0.1109  0.0000\n",
      " 0.1109  1.0000\n",
      " 0.1109  0.0000\n",
      " 0.1109  0.0000\n",
      " 0.1109  0.0000\n",
      " 0.1109  0.0000\n",
      " 0.1109  0.0000\n",
      " 0.1109  0.0000\n",
      " 0.1109  0.0000\n",
      " 0.1109  0.0000\n",
      " 0.1109  0.0000\n",
      " 0.1109  0.0000\n",
      " 0.1109  0.0000\n",
      " 0.1109  1.0000\n",
      "[torch.FloatTensor of size 64x2]\n",
      "\n"
     ]
    }
   ],
   "source": [
    "outputs = net(inputs)\n",
    "print(outputs.data.type(), outputs.data.size())\n",
    "print(labels.data.type(), labels.data.unsqueeze(1).size())\n",
    "print(torch.cat((outputs.data, labels.data.unsqueeze(1)), dim=1))"
   ]
  },
  {
   "cell_type": "markdown",
   "metadata": {},
   "source": [
    "Okay...it's not entirely clear what's going on--that is, I don't understand why it's not learning the function as intended. Let's check the weights themselves. "
   ]
  },
  {
   "cell_type": "code",
   "execution_count": 9,
   "metadata": {},
   "outputs": [
    {
     "name": "stdout",
     "output_type": "stream",
     "text": [
      "\n",
      "-6.7320 -6.7312 -6.7321 -6.7323 -6.7310 -6.7321\n",
      "-1.8430 -2.1063 -1.6858 -1.9522 -1.8903 -1.9100\n",
      "[torch.FloatTensor of size 2x6]\n",
      "\n",
      "\n",
      "-0.0401\n",
      "-4.0192\n",
      "[torch.FloatTensor of size 2]\n",
      "\n",
      "\n",
      " 7.5154 -0.6593\n",
      "[torch.FloatTensor of size 1x2]\n",
      "\n",
      "\n",
      " 0.2227\n",
      "[torch.FloatTensor of size 1]\n",
      "\n"
     ]
    }
   ],
   "source": [
    "print(net.l1_linear.weight.data)\n",
    "print(net.l1_linear.bias.data)\n",
    "print(net.l2_linear.weight.data)\n",
    "print(net.l2_linear.bias.data)"
   ]
  },
  {
   "cell_type": "markdown",
   "metadata": {},
   "source": [
    "Okay, my mistake. After looking at the paper, it seems that they label \"on\" (i.e., positive) output to indicate symmetry. Let's update this. "
   ]
  },
  {
   "cell_type": "code",
   "execution_count": 10,
   "metadata": {},
   "outputs": [
    {
     "name": "stdout",
     "output_type": "stream",
     "text": [
      "torch.FloatTensor torch.Size([64, 1])\n",
      "torch.FloatTensor torch.Size([64, 1])\n",
      "\n",
      "    1     0\n",
      "    1     1\n",
      "    1     1\n",
      "    1     1\n",
      "    1     1\n",
      "    1     1\n",
      "    1     1\n",
      "    1     1\n",
      "    1     1\n",
      "    1     1\n",
      "    1     1\n",
      "    1     1\n",
      "    1     0\n",
      "    1     1\n",
      "    1     1\n",
      "    1     1\n",
      "    1     1\n",
      "    1     1\n",
      "    1     0\n",
      "    1     1\n",
      "    1     1\n",
      "    1     1\n",
      "    1     1\n",
      "    1     1\n",
      "    1     1\n",
      "    1     1\n",
      "    1     1\n",
      "    1     1\n",
      "    1     1\n",
      "    1     1\n",
      "    1     0\n",
      "    1     1\n",
      "    1     1\n",
      "    1     0\n",
      "    1     1\n",
      "    1     1\n",
      "    1     1\n",
      "    1     1\n",
      "    1     1\n",
      "    1     1\n",
      "    1     1\n",
      "    1     1\n",
      "    1     1\n",
      "    1     1\n",
      "    1     1\n",
      "    1     0\n",
      "    1     1\n",
      "    1     1\n",
      "    1     1\n",
      "    1     1\n",
      "    1     1\n",
      "    1     0\n",
      "    1     1\n",
      "    1     1\n",
      "    1     1\n",
      "    1     1\n",
      "    1     1\n",
      "    1     1\n",
      "    1     1\n",
      "    1     1\n",
      "    1     1\n",
      "    1     1\n",
      "    1     1\n",
      "    1     0\n",
      "[torch.FloatTensor of size 64x2]\n",
      "\n"
     ]
    }
   ],
   "source": [
    "labels.data = 1.0 - labels.data\n",
    "\n",
    "net = SimpleNetV2()\n",
    "train(net, 1400)\n",
    "outputs = net(inputs)\n",
    "print(outputs.data.type(), outputs.data.size())\n",
    "print(labels.data.type(), labels.data.unsqueeze(1).size())\n",
    "print(torch.cat((outputs.data, labels.data.unsqueeze(1)), dim=1))"
   ]
  },
  {
   "cell_type": "markdown",
   "metadata": {},
   "source": [
    "Okay, that's it. I only have so much time. This will haunt me forever, but I must leave it be for now. \n",
    "\n",
    "BAH! Fine. I forgot to use a sigmoid at the end, as (it seems) they did in the original paper. Let us see how this works now. "
   ]
  },
  {
   "cell_type": "code",
   "execution_count": 11,
   "metadata": {},
   "outputs": [
    {
     "name": "stdout",
     "output_type": "stream",
     "text": [
      "torch.FloatTensor torch.Size([64, 1])\n",
      "torch.FloatTensor torch.Size([64, 1])\n",
      "\n",
      " 1.0000  0.0000\n",
      " 1.0000  1.0000\n",
      " 1.0000  1.0000\n",
      " 1.0000  1.0000\n",
      " 1.0000  1.0000\n",
      " 1.0000  1.0000\n",
      " 1.0000  1.0000\n",
      " 1.0000  1.0000\n",
      " 1.0000  1.0000\n",
      " 1.0000  1.0000\n",
      " 1.0000  1.0000\n",
      " 1.0000  1.0000\n",
      " 1.0000  0.0000\n",
      " 1.0000  1.0000\n",
      " 1.0000  1.0000\n",
      " 1.0000  1.0000\n",
      " 1.0000  1.0000\n",
      " 1.0000  1.0000\n",
      " 1.0000  0.0000\n",
      " 1.0000  1.0000\n",
      " 1.0000  1.0000\n",
      " 1.0000  1.0000\n",
      " 1.0000  1.0000\n",
      " 1.0000  1.0000\n",
      " 1.0000  1.0000\n",
      " 1.0000  1.0000\n",
      " 1.0000  1.0000\n",
      " 1.0000  1.0000\n",
      " 1.0000  1.0000\n",
      " 1.0000  1.0000\n",
      " 1.0000  0.0000\n",
      " 1.0000  1.0000\n",
      " 1.0000  1.0000\n",
      " 1.0000  0.0000\n",
      " 1.0000  1.0000\n",
      " 1.0000  1.0000\n",
      " 1.0000  1.0000\n",
      " 1.0000  1.0000\n",
      " 1.0000  1.0000\n",
      " 1.0000  1.0000\n",
      " 1.0000  1.0000\n",
      " 1.0000  1.0000\n",
      " 1.0000  1.0000\n",
      " 1.0000  1.0000\n",
      " 1.0000  1.0000\n",
      " 1.0000  0.0000\n",
      " 1.0000  1.0000\n",
      " 1.0000  1.0000\n",
      " 1.0000  1.0000\n",
      " 1.0000  1.0000\n",
      " 1.0000  1.0000\n",
      " 1.0000  0.0000\n",
      " 1.0000  1.0000\n",
      " 1.0000  1.0000\n",
      " 1.0000  1.0000\n",
      " 1.0000  1.0000\n",
      " 1.0000  1.0000\n",
      " 1.0000  1.0000\n",
      " 1.0000  1.0000\n",
      " 1.0000  1.0000\n",
      " 1.0000  1.0000\n",
      " 1.0000  1.0000\n",
      " 1.0000  1.0000\n",
      " 1.0000  0.0000\n",
      "[torch.FloatTensor of size 64x2]\n",
      "\n"
     ]
    }
   ],
   "source": [
    "class SimpleNetV3(nn.Module):\n",
    "    def __init__(self):\n",
    "        super(SimpleNetV3, self).__init__()\n",
    "        \n",
    "        self.l1_linear = nn.Linear(6, 2)\n",
    "        self.l2_linear = nn.Linear(2, 1)\n",
    "    \n",
    "    def forward(self, x):\n",
    "        x = functional.sigmoid(self.l1_linear(x))\n",
    "        x = functional.sigmoid(self.l2_linear(x))\n",
    "        return x\n",
    "\n",
    "net = SimpleNetV3()\n",
    "train(net, 1400)\n",
    "outputs = net(inputs)\n",
    "print(outputs.data.type(), outputs.data.size())\n",
    "print(labels.data.type(), labels.data.unsqueeze(1).size())\n",
    "print(torch.cat((outputs.data, labels.data.unsqueeze(1)), dim=1))"
   ]
  },
  {
   "cell_type": "markdown",
   "metadata": {},
   "source": [
    "Okay. Now I'm really done. "
   ]
  },
  {
   "cell_type": "markdown",
   "metadata": {},
   "source": [
    "## JUST KIDDING LET'S DO THIS\n",
    "\n",
    "So I figured out (several hours later, after looking at the paper and directly implementing their exactly network instance to be sure) that this is what they did:\n",
    "* labels are 1 for symmetrical inputs, and 0 for asymmetrical inputs;\n",
    "* they did, indeed, use sigmoids everywhere (no funky stuff necessary!).\n",
    "\n",
    "Let's do *exactly* what they did now. "
   ]
  },
  {
   "cell_type": "code",
   "execution_count": 42,
   "metadata": {},
   "outputs": [
    {
     "name": "stdout",
     "output_type": "stream",
     "text": [
      "Variable containing:\n",
      "    0     0     1     0     1     0     1\n",
      "    0     0     1     0     1     1     1\n",
      "    0     0     1     1     0     0     0\n",
      "    0     0     1     1     0     1     1\n",
      "    0     0     1     1     1     0     1\n",
      "    0     0     1     1     1     1     1\n",
      "    0     1     0     0     0     0     1\n",
      "    0     1     0     0     0     1     1\n",
      "    0     1     0     0     1     0     0\n",
      "    0     1     0     0     1     1     1\n",
      "[torch.FloatTensor of size 10x7]\n",
      "\n"
     ]
    }
   ],
   "source": [
    "inputs = numpy.zeros((64, 6)).astype(\"float32\")\n",
    "fill_binary_numbers(inputs)\n",
    "labels = numpy.logical_not(numpy.all(numpy.equal(inputs[:,0:3], inputs[:,5:2:-1]), axis=1)).astype(\"float32\")\n",
    "\n",
    "inputs = autograd.Variable(torch.from_numpy(inputs))\n",
    "labels = autograd.Variable(torch.from_numpy(labels))\n",
    "\n",
    "print(torch.cat([inputs, labels.unsqueeze(1)], 1)[10:20, :])"
   ]
  },
  {
   "cell_type": "code",
   "execution_count": 55,
   "metadata": {},
   "outputs": [
    {
     "name": "stdout",
     "output_type": "stream",
     "text": [
      "Variable containing:\n",
      " 0.9027\n",
      "[torch.FloatTensor of size 1x1]\n",
      "\n"
     ]
    }
   ],
   "source": [
    "class FinalNet(nn.Module):\n",
    "    def __init__(self):\n",
    "        super(FinalNet, self).__init__()\n",
    "        self.l1_linear = nn.Linear(6, 3)\n",
    "        self.l2_linear = nn.Linear(3, 1)\n",
    "    \n",
    "    def forward(self, x):\n",
    "        x = functional.sigmoid(self.l1_linear(x))\n",
    "        x = functional.sigmoid(self.l2_linear(x))\n",
    "        return x\n",
    "\n",
    "import torch.nn.init as init\n",
    "def uniform(module, a=-0.3, b=0.3):\n",
    "    if module.__class__.__name__ == 'Linear':\n",
    "        init.uniform(module.weight.data)\n",
    "        init.uniform(module.bias.data)\n",
    "\n",
    "net = FinalNet()\n",
    "net.apply(uniform)\n",
    "print(net(autograd.Variable(torch.Tensor([1, 0, 0, 0, 0, 1]).unsqueeze(0))))"
   ]
  },
  {
   "cell_type": "code",
   "execution_count": 56,
   "metadata": {},
   "outputs": [
    {
     "name": "stdout",
     "output_type": "stream",
     "text": [
      "(Variable containing:\n",
      "    1     0     1     0     0     0\n",
      "    0     1     1     0     0     0\n",
      "    1     0     0     0     0     1\n",
      "    0     0     0     0     0     1\n",
      "    1     0     0     0     1     0\n",
      "    1     0     1     1     0     1\n",
      "    0     1     0     1     0     1\n",
      "    1     0     1     0     1     0\n",
      "    1     1     0     0     1     1\n",
      "    1     1     1     1     1     1\n",
      "    0     0     1     1     1     0\n",
      "    0     0     0     0     0     0\n",
      "    0     1     0     0     1     0\n",
      "    0     1     1     1     1     0\n",
      "    0     0     1     1     0     0\n",
      "    1     0     0     0     0     0\n",
      "[torch.FloatTensor of size 16x6]\n",
      ", Variable containing:\n",
      " 0\n",
      " 0\n",
      " 1\n",
      " 0\n",
      " 0\n",
      " 1\n",
      " 0\n",
      " 0\n",
      " 1\n",
      " 1\n",
      " 0\n",
      " 1\n",
      " 1\n",
      " 1\n",
      " 1\n",
      " 0\n",
      "[torch.FloatTensor of size 16]\n",
      ")\n"
     ]
    }
   ],
   "source": [
    "import random\n",
    "\n",
    "symmetric_inputs_numpy = inputs.data.numpy()[labels.data.numpy() == 0.]\n",
    "asymmetric_inputs_numpy = inputs.data.numpy()[labels.data.numpy() == 1.]\n",
    "\n",
    "def balanced_random_choice():\n",
    "    numpy.random.shuffle(asymmetric_inputs_numpy)\n",
    "    current_inputs_numpy = numpy.concatenate(\n",
    "        (symmetric_inputs_numpy, asymmetric_inputs_numpy[0:8, :]))\n",
    "    current_labels_numpy = numpy.concatenate(\n",
    "        [numpy.ones((8,), dtype=numpy.float32), numpy.zeros((8,), dtype=numpy.float32)])\n",
    "    \n",
    "    indexes = numpy.random.permutation(current_inputs_numpy.shape[0])\n",
    "    current_inputs_numpy = current_inputs_numpy[indexes, :]\n",
    "    current_labels_numpy = current_labels_numpy[indexes]\n",
    "    \n",
    "    return (autograd.Variable(torch.from_numpy(current_inputs_numpy)),\n",
    "            autograd.Variable(torch.from_numpy(current_labels_numpy)))\n",
    "\n",
    "print(balanced_random_choice())"
   ]
  },
  {
   "cell_type": "code",
   "execution_count": 57,
   "metadata": {
    "collapsed": true
   },
   "outputs": [],
   "source": [
    "optimizer = optim.SGD(net.parameters(), lr=0.1, momentum=0.9)\n",
    "for i in range(20*1425):\n",
    "    current_inputs, current_labels = balanced_random_choice()\n",
    "    outputs = net(current_inputs)\n",
    "    error = functional.mse_loss(outputs, current_labels, size_average=False)\n",
    "    net.zero_grad()\n",
    "    error.backward()\n",
    "    optimizer.step()"
   ]
  },
  {
   "cell_type": "code",
   "execution_count": 59,
   "metadata": {},
   "outputs": [
    {
     "name": "stdout",
     "output_type": "stream",
     "text": [
      "Parameter containing:\n",
      "  6.5889   1.2287  -0.3031   0.2397  -1.2644   6.7617\n",
      " -6.9563  -3.4912 -13.1641  13.1622   3.4841   6.2293\n",
      "  6.7083   3.6227  13.9242 -13.9292  -3.6198  -7.2564\n",
      "[torch.FloatTensor of size 3x6]\n",
      "\n",
      "Parameter containing:\n",
      "-1.8222\n",
      "-1.8437\n",
      "-2.0349\n",
      "[torch.FloatTensor of size 3]\n",
      "\n",
      "Parameter containing:\n",
      " -2.6609 -18.8284 -18.1575\n",
      "[torch.FloatTensor of size 1x3]\n",
      "\n",
      "Parameter containing:\n",
      " 10.9448\n",
      "[torch.FloatTensor of size 1]\n",
      "\n",
      "Variable containing:\n",
      "1.00000e-04 *\n",
      "  1.1582\n",
      "[torch.FloatTensor of size 1]\n",
      "\n",
      "Variable containing:\n",
      " 0.0003  0.0000\n",
      " 0.0000  0.0000\n",
      " 0.9973  1.0000\n",
      " 0.0001  0.0000\n",
      " 0.0000  0.0000\n",
      " 0.9966  1.0000\n",
      " 0.9966  1.0000\n",
      " 0.9966  1.0000\n",
      " 0.0000  0.0000\n",
      " 0.9966  1.0000\n",
      " 0.9974  1.0000\n",
      " 0.0001  0.0000\n",
      " 0.9974  1.0000\n",
      " 0.0000  0.0000\n",
      " 0.0064  0.0000\n",
      " 0.9973  1.0000\n",
      "[torch.FloatTensor of size 16x2]\n",
      "\n"
     ]
    }
   ],
   "source": [
    "print(net.l1_linear.weight)\n",
    "print(net.l1_linear.bias)\n",
    "print(net.l2_linear.weight)\n",
    "print(net.l2_linear.bias)\n",
    "print(error)\n",
    "print(torch.cat([outputs, current_labels.unsqueeze(1)], 1))"
   ]
  },
  {
   "cell_type": "markdown",
   "metadata": {},
   "source": [
    "So, after several experiments with the above code, I've learned the difficult way that size matters *a lot* in neural networks. Here's a list of things I tried.\n",
    "\n",
    "1) Exactly how the original paper did it, with `momentum=0.9`, `lr=0.1`, cumulative gradient (not averaged, and not in batches), and 1425 epochs. This *kind of* worked, but its accuracy on symmetric inputs was not very good. \n",
    "\n",
    "2) I then tried shuffling the inputs (and corresponding labels) on every epoch. This helped mildly, but it still was making many errors and could not achieve near-perfect performance on the training set. \n",
    "\n",
    "3) Most of the errors seemed to be occuring in the symmetric class of inputs, so I attempted to balance the class distribution in each epoch by sampling the same number of symmetric and asymmetric inputs on each batch, and using a smaller (size 16) batch (only 16 inputs, because there were only 8 symmetric inputs in total). This helped significantly, but there were still a small number of errors. Note that, in order to compensate for a smaller (and noisier) batch size, I increased the number of steps by a factor of 7; this is so that the optimization will expect to see all 56 asymmetric inputs approximately the same number of times as before. \n",
    "\n",
    "4) The final thing I tried was increasing the number of units in the hidden layer to four, up from two. This did the trick! The net fit the training set nearly perfectly. I suspect that, since two hidden units was *the minimum* number required to solve the problem, it made optimization difficult. Even using just three hidden units was enough to make optimization quick and easy. \n",
    "\n",
    "Tomorrow, I'll document all of these attempts and plot errors/look at weights, etc."
   ]
  },
  {
   "cell_type": "code",
   "execution_count": null,
   "metadata": {
    "collapsed": true
   },
   "outputs": [],
   "source": []
  }
 ],
 "metadata": {
  "kernelspec": {
   "display_name": "Python 3",
   "language": "python",
   "name": "python3"
  },
  "language_info": {
   "codemirror_mode": {
    "name": "ipython",
    "version": 3
   },
   "file_extension": ".py",
   "mimetype": "text/x-python",
   "name": "python",
   "nbconvert_exporter": "python",
   "pygments_lexer": "ipython3",
   "version": "3.6.3"
  }
 },
 "nbformat": 4,
 "nbformat_minor": 2
}
